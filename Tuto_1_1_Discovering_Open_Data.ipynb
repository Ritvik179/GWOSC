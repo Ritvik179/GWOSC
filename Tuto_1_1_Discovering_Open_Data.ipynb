{
  "cells": [
    {
      "cell_type": "markdown",
      "metadata": {
        "id": "view-in-github",
        "colab_type": "text"
      },
      "source": [
        "<a href=\"https://colab.research.google.com/github/Ritvik179/GWOSC/blob/main/Tuto_1_1_Discovering_Open_Data.ipynb\" target=\"_parent\"><img src=\"https://colab.research.google.com/assets/colab-badge.svg\" alt=\"Open In Colab\"/></a>"
      ]
    },
    {
      "cell_type": "markdown",
      "metadata": {
        "Collapsed": "false",
        "id": "R_adEak0Q8NT"
      },
      "source": [
        "<span style=\"float: left;padding: 1.3em\">![logo](https://github.com/gw-odw/odw-2024/blob/main/Tutorials/logo.png?raw=1)</span>\n",
        "\n",
        "#  Gravitational Wave Open Data Workshop #7\n",
        "\n",
        "\n",
        "#### Tutorial 1.1: Discovering open data from GW observatories\n",
        "\n",
        "This notebook describes how to discover what data are available from the [Gravitational-Wave Open Science Center (GWOSC)](https://www.gw-openscience.org).\n",
        "    \n",
        "[Click this link to view this tutorial in Google Colaboratory](https://colab.research.google.com/github/gw-odw/odw-2024/blob/main/Tutorials/Day_1/Tuto_1.1_Discovering_Open_Data.ipynb)"
      ]
    },
    {
      "cell_type": "markdown",
      "metadata": {
        "Collapsed": "false",
        "id": "W6msjCJVQ8NV"
      },
      "source": [
        "## Software installation  (execute only if running on a cloud platform or haven't done the installation yet!)\n",
        "\n",
        "First, we need to install the software, which we do following the instruction in [Software Setup Instructions](../../setup.md):"
      ]
    },
    {
      "cell_type": "code",
      "execution_count": 2,
      "metadata": {
        "id": "DNVdKTPXMP73"
      },
      "outputs": [],
      "source": [
        "# -- Uncomment following line if running in Google Colab\n",
        "! pip install -q 'gwosc==0.7.1'"
      ]
    },
    {
      "cell_type": "code",
      "execution_count": 3,
      "metadata": {
        "colab": {
          "base_uri": "https://localhost:8080/"
        },
        "id": "IqhpeBXgMP75",
        "outputId": "876d9773-bacb-4cb9-c358-a42a88da3a06"
      },
      "outputs": [
        {
          "output_type": "stream",
          "name": "stdout",
          "text": [
            "0.7.1\n"
          ]
        }
      ],
      "source": [
        "#check the version of the package gwosc you are using\n",
        "import gwosc\n",
        "print(gwosc.__version__)"
      ]
    },
    {
      "cell_type": "markdown",
      "metadata": {
        "id": "ZkbjcYcNMP76"
      },
      "source": [
        "The version you get should be 0.7.1. If it's not, check that you have followed all the steps in [Software Setup Instructions](../../setup.md)."
      ]
    },
    {
      "cell_type": "markdown",
      "metadata": {
        "Collapsed": "false",
        "id": "F3tmmQ-hQ8Nu"
      },
      "source": [
        "## Querying for event information\n",
        "\n",
        "The module `gwosc.datasets` provides tools for searching for datasets, including events, catalogs and full run strain data releases.\n",
        "\n",
        "\n",
        "For example, we can search for events in the [GWTC-1 catalog](https://www.gw-openscience.org/eventapi/html/GWTC-1-confident/), the catalog of all events from the O1 and O2 observing runs. A list of available catalogs can be seen in the [Event Portal](https://gw-openscience.org/eventapi)"
      ]
    },
    {
      "cell_type": "code",
      "execution_count": 4,
      "metadata": {
        "colab": {
          "base_uri": "https://localhost:8080/"
        },
        "id": "yxNoxVcPMP77",
        "outputId": "1ae8f9b7-1f66-4270-ff6a-ff06740b6544"
      },
      "outputs": [
        {
          "output_type": "stream",
          "name": "stdout",
          "text": [
            "List of available catalogs\n",
            "['GWTC', 'GWTC-1-confident', 'GWTC-1-marginal', 'GWTC-2', 'GWTC-2.1-auxiliary', 'GWTC-2.1-confident', 'GWTC-2.1-marginal', 'GWTC-3-confident', 'GWTC-3-marginal', 'Initial_LIGO_Virgo', 'O1_O2-Preliminary', 'O3_Discovery_Papers', 'O3_IMBH_marginal', 'O4_Discovery_Papers']\n"
          ]
        }
      ],
      "source": [
        "from gwosc.datasets import find_datasets\n",
        "from gwosc import datasets\n",
        "\n",
        "#-- List all available catalogs\n",
        "print(\"List of available catalogs\")\n",
        "print(find_datasets(type=\"catalog\"))"
      ]
    },
    {
      "cell_type": "code",
      "execution_count": 5,
      "metadata": {
        "colab": {
          "base_uri": "https://localhost:8080/"
        },
        "id": "7l5SqM0VMP78",
        "outputId": "cf68173a-cba5-42af-f7e9-815051cdc167"
      },
      "outputs": [
        {
          "output_type": "stream",
          "name": "stdout",
          "text": [
            "GWTC-1 events: ['GW150914-v3', 'GW151012-v3', 'GW151226-v2', 'GW170104-v2', 'GW170608-v3', 'GW170729-v1', 'GW170809-v1', 'GW170814-v3', 'GW170817-v3', 'GW170818-v1', 'GW170823-v1']\n",
            "\n"
          ]
        }
      ],
      "source": [
        "#-- Print all the GW events from the GWTC-1 catalog\n",
        "gwtc1 = datasets.find_datasets(type='events', catalog='GWTC-1-confident')\n",
        "print('GWTC-1 events:', gwtc1)\n",
        "print(\"\")"
      ]
    },
    {
      "cell_type": "markdown",
      "metadata": {
        "id": "X8I98f-hMP78"
      },
      "source": [
        "Note that the event name is of the type _GWyymmdd-vx_ where _x_ is the last available version for the data set provided by GWOSC."
      ]
    },
    {
      "cell_type": "code",
      "execution_count": 6,
      "metadata": {
        "colab": {
          "base_uri": "https://localhost:8080/"
        },
        "id": "uJOntgF_MP79",
        "outputId": "9db642e1-4360-460a-8d3d-319c345a56be"
      },
      "outputs": [
        {
          "output_type": "stream",
          "name": "stdout",
          "text": [
            "Large data sets: ['BKGW170608_16KHZ_R1', 'O1', 'O1_16KHZ', 'O2_16KHZ_R1', 'O2_4KHZ_R1', 'O3GK_16KHZ_R1', 'O3GK_4KHZ_R1', 'O3a_16KHZ_R1', 'O3a_4KHZ_R1', 'O3b_16KHZ_R1', 'O3b_4KHZ_R1', 'S5', 'S6']\n"
          ]
        }
      ],
      "source": [
        "#-- Print all the large strain data sets from LIGO/Virgo/KAGRA observing runs\n",
        "runs = find_datasets(type='run')\n",
        "print('Large data sets:', runs)"
      ]
    },
    {
      "cell_type": "markdown",
      "metadata": {
        "id": "ETcZgj2_MP79"
      },
      "source": [
        "_Attention: Note that the most recent observation runs, e.g. O2, are labeled with names containing the name of the run (e.g. O2), the sampling rate (4 or 16 kHz) and the release version (e.g. R1). This means that for O2 you have two labels 'O2_4KHZ_R1' and 'O2_16KHZ_R1', depending which is the desired sampling rate_"
      ]
    },
    {
      "cell_type": "markdown",
      "metadata": {
        "Collapsed": "false",
        "id": "D9_tRXpMQ8N8"
      },
      "source": [
        "`datasets.find_datasets` also accepts a `segment` and `detector` keyword to narrow results based on GPS time and detector:"
      ]
    },
    {
      "cell_type": "code",
      "execution_count": 7,
      "metadata": {
        "Collapsed": "false",
        "colab": {
          "base_uri": "https://localhost:8080/"
        },
        "id": "XZTniqwHQ8N-",
        "outputId": "b92dd4ef-db7b-4be6-b7c0-7ef9af37ca9d"
      },
      "outputs": [
        {
          "output_type": "stream",
          "name": "stdout",
          "text": [
            "['GW170104-v2', 'GW170608-v3', 'GW170729-v1', 'GW170809-v1', 'GW170814-v3', 'GW170817-v3', 'GW170818-v1', 'GW170823-v1']\n"
          ]
        }
      ],
      "source": [
        "#-- Detector and segments keywords limit search result\n",
        "print(datasets.find_datasets(type='events', catalog='GWTC-1-confident', detector=\"L1\", segment=(1164556817, 1187733618)))"
      ]
    },
    {
      "cell_type": "markdown",
      "metadata": {
        "Collapsed": "false",
        "id": "7pnAItOJQ8OC"
      },
      "source": [
        "Using `gwosc.datasets.event_gps`, we can query for the GPS time of a specific event (it works also without the version number):"
      ]
    },
    {
      "cell_type": "code",
      "execution_count": 8,
      "metadata": {
        "Collapsed": "false",
        "colab": {
          "base_uri": "https://localhost:8080/"
        },
        "id": "tdr8c15_Q8OD",
        "outputId": "b61bc492-1e4e-4c32-d0ea-fb6394ae0e80"
      },
      "outputs": [
        {
          "output_type": "stream",
          "name": "stdout",
          "text": [
            "1240215503.0\n"
          ]
        }
      ],
      "source": [
        "from gwosc.datasets import event_gps\n",
        "gps = event_gps('GW190425')\n",
        "print(gps)"
      ]
    },
    {
      "cell_type": "markdown",
      "metadata": {
        "Collapsed": "false",
        "id": "hKvQhYAOQ8OG"
      },
      "source": [
        "<div class=\"alert alert-info\">All of these times are returned in the GPS time system, which counts the number of seconds that have elapsed since the start of the GPS epoch at midnight (00:00) on January 6th 1980. GWOSC provides a <a href=\"https://www.gw-openscience.org/gps/\">GPS time converter</a> you can use to translate into datetime, or you can use <a href=\"https://gwpy.github.io/docs/stable/time/\"><code>gwpy.time</code></a>.</div>"
      ]
    },
    {
      "cell_type": "code",
      "execution_count": 9,
      "metadata": {
        "colab": {
          "base_uri": "https://localhost:8080/"
        },
        "id": "tnaYUgkTMP8A",
        "outputId": "f693adce-d13f-43c4-fa5d-61d06223dc44"
      },
      "outputs": [
        {
          "output_type": "stream",
          "name": "stdout",
          "text": [
            "GW190425\n"
          ]
        }
      ],
      "source": [
        "# You can do also the vice-versa\n",
        "from gwosc.datasets import event_at_gps\n",
        "print(datasets.event_at_gps(1240215503))"
      ]
    },
    {
      "cell_type": "markdown",
      "metadata": {
        "id": "Aa_G79r2MP8B"
      },
      "source": [
        "Note that the method `event_at_gps` looks for events found within 1 seconds of the given GPS time. If no events is found it will give an error."
      ]
    },
    {
      "cell_type": "markdown",
      "metadata": {
        "Collapsed": "false",
        "id": "RXVyJsDDQ8OH"
      },
      "source": [
        "We can query for the GPS time interval for an observing run:"
      ]
    },
    {
      "cell_type": "code",
      "execution_count": 10,
      "metadata": {
        "Collapsed": "false",
        "colab": {
          "base_uri": "https://localhost:8080/"
        },
        "id": "QYsQSPNJQ8OK",
        "outputId": "050e2811-9b0f-4aff-fb74-c26a12f3c6e1"
      },
      "outputs": [
        {
          "output_type": "stream",
          "name": "stdout",
          "text": [
            "(1126051217, 1137254417)\n"
          ]
        }
      ],
      "source": [
        "from gwosc.datasets import run_segment\n",
        "print(run_segment('O1'))"
      ]
    },
    {
      "cell_type": "code",
      "execution_count": 11,
      "metadata": {
        "colab": {
          "base_uri": "https://localhost:8080/"
        },
        "id": "NFyJa4P7MP8C",
        "outputId": "6d345d49-765b-4f58-f205-1f832bac0cf1"
      },
      "outputs": [
        {
          "output_type": "stream",
          "name": "stdout",
          "text": [
            "O3a_4KHZ_R1\n"
          ]
        }
      ],
      "source": [
        "# and vice-versa also in this case\n",
        "from gwosc.datasets import run_at_gps\n",
        "print(run_at_gps(1240215503))"
      ]
    },
    {
      "cell_type": "markdown",
      "metadata": {
        "id": "gF8syPFHMP8C"
      },
      "source": [
        "Now we can use what we have learned with `run_segment` and `find_datasets` to see only the confident events in O1:"
      ]
    },
    {
      "cell_type": "code",
      "execution_count": 12,
      "metadata": {
        "colab": {
          "base_uri": "https://localhost:8080/"
        },
        "id": "OBs2dZOuMP8D",
        "outputId": "b203ee9a-4cb6-4425-99fa-b844c1bf2328"
      },
      "outputs": [
        {
          "output_type": "stream",
          "name": "stdout",
          "text": [
            "['GW150914-v3', 'GW151012-v3', 'GW151226-v2']\n"
          ]
        }
      ],
      "source": [
        "O1_events = datasets.find_datasets(type='events', catalog='GWTC-1-confident', segment=run_segment('O1'))\n",
        "print(O1_events)"
      ]
    },
    {
      "cell_type": "markdown",
      "metadata": {
        "Collapsed": "false",
        "id": "ACFu7w4_Q8OO"
      },
      "source": [
        "## Querying for data files\n",
        "\n",
        "The `gwosc.locate` module provides a function to find the URLs of data files associated with a given dataset.\n",
        "\n",
        "For event datasets, one can get the list of URLs using only the event name:"
      ]
    },
    {
      "cell_type": "code",
      "execution_count": 13,
      "metadata": {
        "Collapsed": "false",
        "colab": {
          "base_uri": "https://localhost:8080/"
        },
        "id": "uMb1bsBNQ8OQ",
        "outputId": "a0fc0777-54b9-4189-ea45-12f983f58721"
      },
      "outputs": [
        {
          "output_type": "stream",
          "name": "stdout",
          "text": [
            "['http://gwosc.org/eventapi/json/GWTC-1-confident/GW150914/v3/H-H1_GWOSC_4KHZ_R1-1126259447-32.hdf5', 'http://gwosc.org/eventapi/json/GWTC-1-confident/GW150914/v3/H-H1_GWOSC_4KHZ_R1-1126257415-4096.hdf5', 'http://gwosc.org/eventapi/json/GWTC-1-confident/GW150914/v3/L-L1_GWOSC_4KHZ_R1-1126259447-32.hdf5', 'http://gwosc.org/eventapi/json/GWTC-1-confident/GW150914/v3/L-L1_GWOSC_4KHZ_R1-1126257415-4096.hdf5']\n"
          ]
        }
      ],
      "source": [
        "from gwosc.locate import get_event_urls\n",
        "urls = get_event_urls('GW150914')\n",
        "print(urls)"
      ]
    },
    {
      "cell_type": "markdown",
      "metadata": {
        "Collapsed": "false",
        "id": "19XV79-XQ8OV"
      },
      "source": [
        "By default, this function returns all of the files associated with a given event, which isn't particularly helpful. However, we can filter on any of these by using keyword arguments, for example to get the URL for the 32-second file for the LIGO-Livingston detector:"
      ]
    },
    {
      "cell_type": "code",
      "execution_count": 14,
      "metadata": {
        "Collapsed": "false",
        "colab": {
          "base_uri": "https://localhost:8080/"
        },
        "id": "H7MfuRbPQ8OW",
        "outputId": "27b40520-f1a3-4fc3-bf2d-0a608bf72800"
      },
      "outputs": [
        {
          "output_type": "stream",
          "name": "stdout",
          "text": [
            "['http://gwosc.org/eventapi/json/GWTC-1-confident/GW150914/v3/L-L1_GWOSC_4KHZ_R1-1126259447-32.hdf5']\n"
          ]
        }
      ],
      "source": [
        "urls = get_event_urls('GW150914', duration=32, detector='L1')\n",
        "print(urls)"
      ]
    },
    {
      "cell_type": "markdown",
      "metadata": {
        "id": "TNdqcZXFMP8F"
      },
      "source": [
        "##  Query filtered by merger parameters\n",
        "The `query_events` module of `gwosc.datasets` allows to get a list of events filtered by some parameters, similar to what is done by the `Query` function of the [event portal](https://www.gw-openscience.org/eventapi/html/query/). A list of available parameters can be found [here](https://gwosc.readthedocs.io/en/stable/reference/gwosc.datasets.query_events.html) or using `query_events?`.\n",
        "\n",
        "Let's see how to use this module to find which events have been detected with a network signal to noise ratio (SNR) between 25 and 30:"
      ]
    },
    {
      "cell_type": "code",
      "execution_count": 15,
      "metadata": {
        "colab": {
          "base_uri": "https://localhost:8080/"
        },
        "id": "kA0cPLzXMP8F",
        "outputId": "a58ac582-f626-4415-9e47-eaa0a7140431"
      },
      "outputs": [
        {
          "output_type": "stream",
          "name": "stdout",
          "text": [
            "['GW200129_065458-v1', 'GW190814-v1', 'GW190814_211039-v3', 'GW190521_074359-v2', 'GW150914-v3']\n"
          ]
        }
      ],
      "source": [
        "from gwosc.datasets import query_events\n",
        "selection = query_events(select=[\"25 <= network-matched-filter-snr <= 30\"])\n",
        "#this is equivalent to\n",
        "#query_events(select=[\"network-matched-filter-snr <= 30\", \"network-matched-filter-snr>= 25\"])\n",
        "print(selection)"
      ]
    },
    {
      "cell_type": "markdown",
      "metadata": {
        "id": "Oa-0ijR0MP8G"
      },
      "source": [
        "Note that this module will give the list of **all available versions** for all the events that have the required parameters. For example, in this query the event GW190814 is listed twice because 2 versions of that event satisfy the request of SNR between 25 and 30."
      ]
    },
    {
      "cell_type": "markdown",
      "metadata": {
        "Collapsed": "false",
        "id": "r_YLBpR0Q8Oe"
      },
      "source": [
        "# Exercises\n",
        "\n",
        "Now that you've seen examples of how to query for dataset information using the `gwosc` package, please try and complete the following exercices using that interface:\n",
        "\n",
        "- How many months did O2 last? (Hint: check the output of _find_datasets(type='run')_ to find the correct label to use)\n",
        "- How many GWTC-3-confident events were detected during O3b?\n",
        "- How many events have been detected with a network signal to noise ratio (SNR) >= 30?"
      ]
    },
    {
      "cell_type": "code",
      "execution_count": 27,
      "metadata": {
        "id": "iO7NYyF-MP8H",
        "colab": {
          "base_uri": "https://localhost:8080/"
        },
        "outputId": "62ffafeb-89d0-4bd8-ba68-fee2230017c5"
      },
      "outputs": [
        {
          "output_type": "stream",
          "name": "stdout",
          "text": [
            "23176801\n",
            "8.933333333333334\n"
          ]
        }
      ],
      "source": [
        "from gwosc.datasets import run_segment\n",
        "t=run_segment('O2_16KHZ_R1')\n",
        "t_0=t[1]-t[0]\n",
        "print(t_0)\n",
        "\n",
        "m = (t_0/3600)/24\n",
        "m_1=round(m,0)\n",
        "\n",
        "\n",
        "#30 days = 1 month\n",
        "#1 day = 1/30 month\n",
        "#268 days = 268/30 month\n",
        "\n",
        "m_2= 268/30\n",
        "print(m_2)"
      ]
    },
    {
      "cell_type": "code",
      "source": [
        "O3b_events = datasets.find_datasets(type='events', catalog='GWTC-3-confident', segment=run_segment('O3b_16KHZ_R1'))\n",
        "print(O3b_events)\n",
        "print(len(O3b_events))"
      ],
      "metadata": {
        "colab": {
          "base_uri": "https://localhost:8080/"
        },
        "id": "pNsXAvE1awQK",
        "outputId": "cfcf457b-b340-48ad-8d1d-01028fa6abb7"
      },
      "execution_count": 29,
      "outputs": [
        {
          "output_type": "stream",
          "name": "stdout",
          "text": [
            "['GW191103_012549-v1', 'GW191105_143521-v1', 'GW191109_010717-v1', 'GW191113_071753-v1', 'GW191126_115259-v1', 'GW191127_050227-v1', 'GW191129_134029-v1', 'GW191204_110529-v1', 'GW191204_171526-v1', 'GW191215_223052-v1', 'GW191216_213338-v1', 'GW191219_163120-v1', 'GW191222_033537-v1', 'GW191230_180458-v1', 'GW200112_155838-v1', 'GW200115_042309-v2', 'GW200128_022011-v1', 'GW200129_065458-v1', 'GW200202_154313-v1', 'GW200208_130117-v1', 'GW200208_222617-v1', 'GW200209_085452-v1', 'GW200210_092254-v1', 'GW200216_220804-v1', 'GW200219_094415-v1', 'GW200220_061928-v1', 'GW200220_124850-v1', 'GW200224_222234-v1', 'GW200225_060421-v1', 'GW200302_015811-v1', 'GW200306_093714-v1', 'GW200308_173609-v1', 'GW200311_115853-v1', 'GW200316_215756-v1', 'GW200322_091133-v1']\n",
            "35\n"
          ]
        }
      ]
    },
    {
      "cell_type": "code",
      "source": [
        "from gwosc.datasets import query_events\n",
        "selection1= query_events(select=[\"network-matched-filter-snr>=30\"])\n",
        "\n",
        "print(selection1)"
      ],
      "metadata": {
        "colab": {
          "base_uri": "https://localhost:8080/"
        },
        "id": "0s2r_afYcYcp",
        "outputId": "7f8dacb8-f0ab-42ed-d670-6e1e9809982a"
      },
      "execution_count": 33,
      "outputs": [
        {
          "output_type": "stream",
          "name": "stdout",
          "text": [
            "['GW170817-v3']\n"
          ]
        }
      ]
    },
    {
      "cell_type": "markdown",
      "source": [
        "Only 1 with SNR>=30"
      ],
      "metadata": {
        "id": "nNZmFlevdOyW"
      }
    },
    {
      "cell_type": "code",
      "source": [],
      "metadata": {
        "id": "T4vSXzbydE6T"
      },
      "execution_count": null,
      "outputs": []
    }
  ],
  "metadata": {
    "colab": {
      "name": "Tuto 1.1 Discovering Open Data.ipynb",
      "provenance": [],
      "include_colab_link": true
    },
    "kernelspec": {
      "display_name": "Python 3 (ipykernel)",
      "language": "python",
      "name": "python3"
    },
    "language_info": {
      "codemirror_mode": {
        "name": "ipython",
        "version": 3
      },
      "file_extension": ".py",
      "mimetype": "text/x-python",
      "name": "python",
      "nbconvert_exporter": "python",
      "pygments_lexer": "ipython3",
      "version": "3.9.19"
    }
  },
  "nbformat": 4,
  "nbformat_minor": 0
}