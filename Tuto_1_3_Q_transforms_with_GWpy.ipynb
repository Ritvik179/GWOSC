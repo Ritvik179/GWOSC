{
  "cells": [
    {
      "cell_type": "markdown",
      "metadata": {
        "id": "view-in-github",
        "colab_type": "text"
      },
      "source": [
        "<a href=\"https://colab.research.google.com/github/Ritvik179/GWOSC/blob/main/Tuto_1_3_Q_transforms_with_GWpy.ipynb\" target=\"_parent\"><img src=\"https://colab.research.google.com/assets/colab-badge.svg\" alt=\"Open In Colab\"/></a>"
      ]
    },
    {
      "cell_type": "markdown",
      "metadata": {
        "Collapsed": "false",
        "id": "atifoWwfyGsl"
      },
      "source": [
        "<span style=\"float: left;padding: 1.3em\">![logo](https://github.com/gw-odw/odw-2024/blob/main/Tutorials/logo.png?raw=1)</span>\n",
        "\n",
        "#  Gravitational Wave Open Data Workshop #7\n",
        "\n",
        "\n",
        "#### Tutorial 1.3: Data representations in GWpy\n",
        "\n",
        "This notebook covers some different ways of representing data, including\n",
        "\n",
        "  - the spectrogram\n",
        "  - the Q-transform\n",
        "\n",
        "with a challenge you can explore for each method.\n",
        "    \n",
        "[Click this link to view this tutorial in Google Colaboratory](https://colab.research.google.com/github/gw-odw/odw-2024/blob/main/Tutorials/Day_1/Tuto_1.3_Q-transforms_with_GWpy.ipynb)"
      ]
    },
    {
      "cell_type": "markdown",
      "metadata": {
        "Collapsed": "false",
        "id": "Nhx-YG_4yGso"
      },
      "source": [
        "##  Installation  (execute only if running on a cloud platform, like Google Colab, or if you haven't done the installation already!)\n",
        "\n",
        "Note: we use [`pip`](https://docs.python.org/3.6/installing/), but **it is recommended** to use [conda](https://docs.ligo.org/lscsoft/conda/) on your own machine, as explained in the [installation instructions](../../setup.md). This usage might look a little different than normal, simply because we want to do this directly from the notebook."
      ]
    },
    {
      "cell_type": "code",
      "execution_count": null,
      "metadata": {
        "Collapsed": "false",
        "colab": {
          "base_uri": "https://localhost:8080/"
        },
        "id": "mTYe65PMyGs3",
        "outputId": "c108bf3a-ff3b-4177-fb3a-f94b10323d58"
      },
      "outputs": [
        {
          "output_type": "stream",
          "name": "stdout",
          "text": [
            "\u001b[?25l     \u001b[90m━━━━━━━━━━━━━━━━━━━━━━━━━━━━━━━━━━━━━━━━\u001b[0m \u001b[32m0.0/51.0 kB\u001b[0m \u001b[31m?\u001b[0m eta \u001b[36m-:--:--\u001b[0m\r\u001b[2K     \u001b[90m━━━━━━━━━━━━━━━━━━━━━━━━━━━━━━━━━━━━━━━━\u001b[0m \u001b[32m51.0/51.0 kB\u001b[0m \u001b[31m3.7 MB/s\u001b[0m eta \u001b[36m0:00:00\u001b[0m\n",
            "\u001b[?25h  Preparing metadata (setup.py) ... \u001b[?25l\u001b[?25hdone\n",
            "\u001b[2K   \u001b[90m━━━━━━━━━━━━━━━━━━━━━━━━━━━━━━━━━━━━━━━━\u001b[0m \u001b[32m1.4/1.4 MB\u001b[0m \u001b[31m49.2 MB/s\u001b[0m eta \u001b[36m0:00:00\u001b[0m\n",
            "\u001b[2K   \u001b[90m━━━━━━━━━━━━━━━━━━━━━━━━━━━━━━━━━━━━━━━━\u001b[0m \u001b[32m295.0/295.0 kB\u001b[0m \u001b[31m24.2 MB/s\u001b[0m eta \u001b[36m0:00:00\u001b[0m\n",
            "\u001b[2K   \u001b[90m━━━━━━━━━━━━━━━━━━━━━━━━━━━━━━━━━━━━━━━━\u001b[0m \u001b[32m45.5/45.5 kB\u001b[0m \u001b[31m3.9 MB/s\u001b[0m eta \u001b[36m0:00:00\u001b[0m\n",
            "\u001b[?25h  Building wheel for ligo-segments (setup.py) ... \u001b[?25l\u001b[?25hdone\n"
          ]
        }
      ],
      "source": [
        "# -- Uncomment following line if running in Google Colab\n",
        "! pip install -q 'gwpy==3.0.8'"
      ]
    },
    {
      "cell_type": "markdown",
      "metadata": {
        "Collapsed": "false",
        "id": "1Pm54C-SyGtB"
      },
      "source": [
        "**Important:** With Google Colab, you may need to restart the runtime after running the cell above."
      ]
    },
    {
      "cell_type": "markdown",
      "metadata": {
        "Collapsed": "false",
        "id": "0-D_I1InyGtC"
      },
      "source": [
        "## Initialization"
      ]
    },
    {
      "cell_type": "code",
      "execution_count": null,
      "metadata": {
        "Collapsed": "false",
        "id": "us0NcVLNyGtD"
      },
      "outputs": [],
      "source": [
        "import warnings\n",
        "warnings.filterwarnings(\"ignore\", \"Wswiglal-redir-stdio\")\n",
        "\n",
        "import gwpy"
      ]
    },
    {
      "cell_type": "markdown",
      "metadata": {
        "Collapsed": "false",
        "id": "cgy-YL0WyGtG"
      },
      "source": [
        "## Showing the time-evolution of FFTs\n",
        "\n",
        "The FFT, and the ASD, show us a snapshot of the frequency-domain content of our signal, referred to a single time interval.\n",
        "It is commonly useful to show how this frequency-domain content evolves over time.\n",
        "\n",
        "For this we use spectrograms, which show the FFT (or ASD) at each time step on a time-frequency representation.\n",
        "The `TimeSeries` in GWpy includes two methods for this:\n",
        "\n",
        "- [`spectrogram()`](https://gwpy.github.io/docs/stable/api/gwpy.timeseries.TimeSeries.html#gwpy.timeseries.TimeSeries.spectrogram) - which includses a `stride` parameter, and shows an averaged ASD every time interval corresponding to each stride, and\n",
        "- [`spectrogram2()`](https://gwpy.github.io/docs/stable/api/gwpy.timeseries.TimeSeries.html#gwpy.timeseries.TimeSeries.spectrogram2) - shows a single-FFT ASD, defined by its `fftlength`, at each time step. These FFTs can include overlapping segments of tdata, as specified by the `overlap` parameter.\n",
        "\n",
        "Which one should I use? The short answer is use `spectrogram2()` for short(ish) chunks of data, less than a minute or so, and `spectrogram()` for longer chunks where the averaging helps remove very short noise bursts.\n",
        "\n",
        "The long answer is that averaging the FFTs computed each stride of data reduces the variance of the resulting ASD estimate. However, these averages also reduce the time resolution of the corresponding spectrogram, which is no more `fftlength` $-$ `overlap` but is now determined by the duration of the `stride`. This is called [Welch's spectral density estimation method](https://en.wikipedia.org/wiki/Welch%27s_method).\n",
        "The choice of the overalp is instead determined by how independent we want our FFTs to be (no overlap) and how dense we want them to be (`overlap` equals to a large fraction of `fftlegth`). Refer to this [GWpy example](https://gwpy.github.io/docs/stable/examples/spectrogram/spectrogram2/) on an over-dense spectrogam of GW150914.\n",
        "\n",
        "First, let's reload our data:"
      ]
    },
    {
      "cell_type": "code",
      "execution_count": null,
      "metadata": {
        "Collapsed": "false",
        "id": "Jtaq6lc6yGtH"
      },
      "outputs": [],
      "source": [
        "from gwosc.datasets import event_gps\n",
        "from gwpy.timeseries import TimeSeries\n",
        "\n",
        "gps = event_gps('GW170817')\n",
        "print(\"GW170817 GPS:\", gps)\n",
        "\n",
        "ldata = TimeSeries.fetch_open_data('L1', int(gps)-512, int(gps)+512, cache=True)\n",
        "print(\"GW170817 data\")\n",
        "print(ldata)"
      ]
    },
    {
      "cell_type": "markdown",
      "metadata": {
        "Collapsed": "false",
        "id": "UhyUTGc2yGtM"
      },
      "source": [
        "Now, we can generate our spectrogram using a specific FFT length (remembering to use a window):\n",
        "\n",
        "<div class=\"alert alert-info\">\n",
        "Each of these methods returns the output as stacked power spectral densities, so we take the square root to get back to a familiar amplitude spectral density\n",
        "</div>"
      ]
    },
    {
      "cell_type": "code",
      "execution_count": null,
      "metadata": {
        "Collapsed": "false",
        "id": "3jXQJbvEyGtO"
      },
      "outputs": [],
      "source": [
        "specgram = ldata.spectrogram2(fftlength=4, overlap=2, window='hann') ** (1/2.)\n",
        "plot = specgram.plot()"
      ]
    },
    {
      "cell_type": "markdown",
      "metadata": {
        "Collapsed": "false",
        "id": "QXjayvFpyGtQ"
      },
      "source": [
        "Hmmm... something's not right. Can you spot the only \"hot\" point in this colormap? Maybe the default scale of the color axis is not suitable to fit the excursion of values in this map. **Pro Tip**: check `specgram.min()` and `specgram.max()` values to see if the previous guess is right or not.\n",
        "\n",
        "We can fix this by passing a few more arguments to our plot to control the display (especially the colouring):"
      ]
    },
    {
      "cell_type": "code",
      "execution_count": null,
      "metadata": {
        "Collapsed": "false",
        "id": "RutHrRZtyGtR"
      },
      "outputs": [],
      "source": [
        "ax = plot.gca()\n",
        "ax.set_yscale('log')\n",
        "ax.set_ylim(10, 1400)\n",
        "ax.colorbar(\n",
        "    clim=(1e-24, 1e-20),\n",
        "    norm=\"log\",\n",
        "    label=r\"Strain noise [$1/\\sqrt{\\mathrm{Hz}}$]\",\n",
        ")\n",
        "plot  # refresh"
      ]
    },
    {
      "cell_type": "markdown",
      "metadata": {
        "Collapsed": "false",
        "id": "gfjsK2e1yGtT"
      },
      "source": [
        "Here we can see how the ASD for LIGO-Livingston evolves over a ~17 minute span around GW170817. Four order of magnitudes in the ASD intensity are involved, and this is why the previous attempt resulted in a (almost) fully dark blue image.\n",
        "\n",
        "We can see that the low-frequency noise (<30 Hz) rumbles along with some variation, but high frequencies (>100 Hz) are relatively stable. Between 30-100 Hz we can see some narrow features appearing and disappearing as non-stationary noise affects the measurement."
      ]
    },
    {
      "cell_type": "markdown",
      "metadata": {
        "Collapsed": "false",
        "id": "3jxcXuR-yGtU"
      },
      "source": [
        "## Spectrogram challenge!\n",
        "\n",
        "- download the data for all three detectors involved with the GW170814 detection, generate a PSD for each, and make a plot\n",
        "- make a spectrogram of data for 10 minutes around the GW170817 detection for the LIGO-Livingston detector"
      ]
    },
    {
      "cell_type": "markdown",
      "metadata": {
        "Collapsed": "false",
        "id": "8lxjy7cpyGtU"
      },
      "source": [
        "## Q-transforms in GWpy\n",
        "\n",
        "The spectrogram above is a useful way to show the variation of a power spectral density (PSD) estimate over time. It's best used to see general trends in how the sensitivity of the GW detectors is changing over longish periods (minutes or hours).\n",
        "\n",
        "In this section, we will see how we can use a special filter called a Q-transform to create a time-frequency representation of our data that allows use to pick out features at different frequencies, and how they evolve over very short times, without much prior knowledge of the signal morphology.\n",
        "\n",
        "See [this article](https://doi.org/10.1088/0264-9381/21/20/024) for more details on the Q-transform and its application to gravitational-wave data."
      ]
    },
    {
      "cell_type": "markdown",
      "metadata": {
        "Collapsed": "false",
        "id": "uIB4vOsQyGtW"
      },
      "source": [
        "First, lets reload some data from LIGO Hanford around GW170817:"
      ]
    },
    {
      "cell_type": "code",
      "execution_count": null,
      "metadata": {
        "Collapsed": "false",
        "id": "v7CUjOg-yGtW"
      },
      "outputs": [],
      "source": [
        "segment = (int(gps) - 30, int(gps) + 2)\n",
        "hdata = TimeSeries.fetch_open_data('H1', *segment, verbose=True, cache=True)"
      ]
    },
    {
      "cell_type": "markdown",
      "metadata": {
        "Collapsed": "false",
        "id": "cxWoIkGFyGtY"
      },
      "source": [
        "We can now use the `q_transform()` method of the `hdata` `TimeSeries` to create our time-frequency representation (as a [spectrogram](https://gwpy.github.io/docs/stable/spectrogram/))."
      ]
    },
    {
      "cell_type": "code",
      "execution_count": null,
      "metadata": {
        "Collapsed": "false",
        "id": "Bg0nmye5yGtZ"
      },
      "outputs": [],
      "source": [
        "hq = hdata.q_transform(frange=(30, 500))\n",
        "plot = hq.plot()\n",
        "plot.colorbar(label=\"Normalised energy\")"
      ]
    },
    {
      "cell_type": "markdown",
      "metadata": {
        "Collapsed": "false",
        "id": "rhDe-foRyGtb"
      },
      "source": [
        "From this we can see a different representation of the data. Because the Q-transform returns (by default) normalised energy, the low-frequency rumbling is now much less obvious, and we can see better some noises at higher frequencies.\n",
        "\n",
        "But, we can clean up the display to better visualise the data:"
      ]
    },
    {
      "cell_type": "code",
      "execution_count": null,
      "metadata": {
        "Collapsed": "false",
        "id": "Q9Xm3TQnyGte"
      },
      "outputs": [],
      "source": [
        "ax = plot.gca()\n",
        "ax.set_epoch(gps)\n",
        "ax.set_ylim(30, 500)\n",
        "ax.set_yscale(\"log\")\n",
        "plot  # refresh"
      ]
    },
    {
      "cell_type": "markdown",
      "metadata": {
        "Collapsed": "false",
        "id": "Tb4RaTq5yGtg"
      },
      "source": [
        "Now we can see a more prominent feature starting at ~-6 seconds that looks a little familiar.\n",
        "Here we can use our knowledge of the Q-transform, and our hunch about the origin of the 'feature' to choose a more specific range of 'Q' for the Q-transform, so as to better resolve the feature:"
      ]
    },
    {
      "cell_type": "code",
      "execution_count": null,
      "metadata": {
        "Collapsed": "false",
        "id": "1sEYkTq4yGth"
      },
      "outputs": [],
      "source": [
        "hq = hdata.q_transform(frange=(30, 500), qrange=(100, 110))\n",
        "plot = hq.plot()\n",
        "ax = plot.gca()\n",
        "ax.set_epoch(gps)\n",
        "ax.set_yscale('log')\n",
        "ax.colorbar(label=\"Normalised energy\")"
      ]
    },
    {
      "cell_type": "markdown",
      "metadata": {
        "Collapsed": "false",
        "id": "GHKCFAM5yGtk"
      },
      "source": [
        "Now we see the beautiful, clear track of a BNS merger, visible from about -4 seconds (maye -10 if you squint), all the way through to the merger at T=0.\n",
        "\n",
        "HINT: We can also use the `outseg` option to zoom in around the merger:"
      ]
    },
    {
      "cell_type": "code",
      "execution_count": null,
      "metadata": {
        "id": "MLyOEFoW0ZeI"
      },
      "outputs": [],
      "source": [
        "#-- Use OUTSEG for small time range\n",
        "hq2 = hdata.q_transform(frange=(30, 500), qrange=(80, 110), outseg=(gps-3,gps+0.5))\n",
        "plot = hq2.plot()\n",
        "ax = plot.gca()\n",
        "ax.set_epoch(gps)\n",
        "ax.set_yscale('log')\n",
        "ax.colorbar(label=\"Normalised energy\")"
      ]
    },
    {
      "cell_type": "markdown",
      "metadata": {
        "id": "f6ktpnNk0ZeJ"
      },
      "source": [
        "We can repeat the exercise using LIGO-Livingston data to see something even more remarkable.\n",
        "First we download and filter the Livingston data:"
      ]
    },
    {
      "cell_type": "code",
      "execution_count": null,
      "metadata": {
        "Collapsed": "false",
        "id": "_w620sAMyGtk"
      },
      "outputs": [],
      "source": [
        "ldata = TimeSeries.fetch_open_data('L1', *segment, verbose=True)"
      ]
    },
    {
      "cell_type": "code",
      "execution_count": null,
      "metadata": {
        "Collapsed": "false",
        "id": "x3HOzbP6yGtm"
      },
      "outputs": [],
      "source": [
        "lq = ldata.q_transform(frange=(30, 500), qrange=(100, 110))\n",
        "plot = lq.plot()\n",
        "ax = plot.gca()\n",
        "ax.set_epoch(gps)\n",
        "ax.set_yscale('log')\n",
        "ax.colorbar(label=\"Normalised energy\")"
      ]
    },
    {
      "cell_type": "markdown",
      "metadata": {
        "Collapsed": "false",
        "id": "XqEg99-iyGtp"
      },
      "source": [
        "Now we can see a large blob of energy that is 1000 times louder than what we see in the LIGO-Hanford data.\n",
        "As luck would have it, an instrumental glitch almost exactly overlaps the BNS signal in LIGO-Livingston.\n",
        "But, we can rescale things to see the astrophyscal signal better:"
      ]
    },
    {
      "cell_type": "code",
      "execution_count": null,
      "metadata": {
        "Collapsed": "false",
        "id": "Nzu_7NOayGtq"
      },
      "outputs": [],
      "source": [
        "plot.colorbars[0].mappable.set_clim(0,20)\n",
        "plot.refresh()\n",
        "plot"
      ]
    },
    {
      "cell_type": "markdown",
      "metadata": {
        "Collapsed": "false",
        "id": "Ar050hePyGtu"
      },
      "source": [
        "Now we can see the BNS signal track all the way back to T=-28 seconds in LIGO-Livingston data!\n",
        "\n",
        "However, there is still the large glitch that makes it difficult to see the signal near merger. This loud of a glitch is particularly troublesome for any analyses that want to use this data. In order to address these types of loud glitches, a technique called **gating** is commonly used. We will use the `gwpy.TimeSeries.gate()` method to gate the data.\n",
        "\n",
        "In order to apply a gate, the data is multiplied by a window function. The `gwpy` method we are using uses an inverse Planck window, but other windows, such as a Tukey window, are also commonly used. After multiplying by the window, the data directly surrounding the glitch will be zeroed. It is also important that the window function includes a transition from 0 to 1 so that there are not any discontinuities introduced. An example of a window function can be seen in the lower panel of Fig. 2 from [the GW170817 discovery paper](https://journals.aps.org/prl/abstract/10.1103/PhysRevLett.119.161101).\n",
        "\n",
        "An additional feature of `gwpy.TimeSeries.gate()` is that the times that are gated are identified automatically. This is done by finding data points with an absolute value above some threshold in the whitened data. The default threshold is `50`.\n",
        "\n",
        "Let's now apply gates to the Livingston data and remake the plot:"
      ]
    },
    {
      "cell_type": "code",
      "execution_count": null,
      "metadata": {
        "id": "gKBrUEwH0ZeK"
      },
      "outputs": [],
      "source": [
        "gated_ldata = ldata.gate(tzero=0.25, tpad=0.25)\n",
        "\n",
        "gated_lq = gated_ldata.q_transform(frange=(30, 500), qrange=(100, 110))\n",
        "plot = gated_lq.plot()\n",
        "ax = plot.gca()\n",
        "ax.set_epoch(gps)\n",
        "ax.set_yscale('log')\n",
        "ax.colorbar(label=\"Normalised energy\")\n",
        "plot.colorbars[0].mappable.set_clim(0,20)"
      ]
    },
    {
      "cell_type": "markdown",
      "metadata": {
        "id": "giFr3joI0ZeK"
      },
      "source": [
        "Now the signal is a bit easier to see, but some of our data is now missing. Hence gating can be a great way to deal with loud glitches, but only should be used sparingly.\n",
        "\n",
        "This is basically the same procedure (and the same code) that was used to produce Figures 1 and 2 of the BNS discovery article '_Observation of Gravitational Waves from a Binary Neutron Star Inspiral_' [[link](https://doi.org/10.1103/PhysRevLett.119.161101)]"
      ]
    },
    {
      "cell_type": "markdown",
      "metadata": {
        "Collapsed": "false",
        "id": "f_oIEdq70ZeK"
      },
      "source": [
        "## Q-scan challenge!\n",
        "\n",
        "- download the data for all detectors involved with the GW170814 detection. Which detectors registered this event?\n",
        "- generate a Q-scan for the data in each detector. (Hint: try using a much smaller time range and Q-range than you did for GW170817)"
      ]
    },
    {
      "cell_type": "code",
      "execution_count": null,
      "metadata": {
        "id": "Xd7W438_0ZeK"
      },
      "outputs": [],
      "source": []
    }
  ],
  "metadata": {
    "colab": {
      "name": "Tuto 1.3 Q-transforms with GWpy.ipynb",
      "provenance": [],
      "include_colab_link": true
    },
    "kernelspec": {
      "display_name": "Python 3 (ipykernel)",
      "language": "python",
      "name": "python3"
    },
    "language_info": {
      "codemirror_mode": {
        "name": "ipython",
        "version": 3
      },
      "file_extension": ".py",
      "mimetype": "text/x-python",
      "name": "python",
      "nbconvert_exporter": "python",
      "pygments_lexer": "ipython3",
      "version": "3.9.19"
    }
  },
  "nbformat": 4,
  "nbformat_minor": 0
}